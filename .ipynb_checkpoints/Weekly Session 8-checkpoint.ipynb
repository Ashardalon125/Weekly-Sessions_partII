{
 "cells": [
  {
   "cell_type": "markdown",
   "metadata": {},
   "source": [
    "# Weekly Session 8\n",
    "\n",
    "## Goal\n",
    "To develop a basic familiarity and proficiency with numerical rootfinding.\n",
    "\n",
    "## Readings\n",
    "We will skip the remainder of the linear equations material (6.2) and move directly onto solutions of nonlinear equations.\n",
    "\n",
    "    6.3.1 Relaxation Method\n",
    "    \n",
    "    6.3.2 Convergence Rate\n",
    "    \n",
    "    6.3.4 Binary search -- a.k.a. the bisection method\n",
    "\n",
    "    6.3.5 Newton's method -- a.k.a. the Newton-Raphson method\n",
    "\n",
    "Although we will not specifically cover extremization in this week's handout, you should also read enough to get a basic idea of what is possible:\n",
    "\n",
    "    6.4 Maxima and minima of functions\n",
    "    \n",
    "## Overview\n",
    "\n",
    "We will start with a brief introduction to solving non-linear equations, using the relaxation method.  Then you will build up your own module named ```rootfind```, containing functions which implement each of the basic numerical rootfinding methods: the **bisection** method, the **Newton-Raphson** method (for when the derivative is known), and the **Dekker secant** method (for when it is not).  You will also see the value in *hybridizing* these latter two methods with the bisection method.  \n",
    "\n",
    "As always, scipy has some beautiful versions of these codes available.  So after you have written your own **Newton-Raphson** method, we will switch over to using library functions.\n",
    "\n",
    "https://docs.scipy.org/doc/scipy-0.15.1/reference/generated/scipy.optimize.newton.html"
   ]
  },
  {
   "cell_type": "code",
   "execution_count": 16,
   "metadata": {},
   "outputs": [
    {
     "data": {
      "text/html": [
       "<style>\n",
       "div.warn {\n",
       "    background-color: black;\n",
       "    border-color: #dFb5b4;\n",
       "    border-left: 5px solid #dfb5b4;\n",
       "    padding: 0.5em\n",
       "    color: white;\n",
       "    }\n",
       " </style>\n",
       "\n",
       " <style>\n",
       " div.answer {\n",
       "     background-color: lightblue;\n",
       "     border-color: #dFb5b4;\n",
       "     border-left: 5px solid #dfb5b4;\n",
       "     padding: 0.5em\n",
       "     }\n",
       "  </style>\n"
      ],
      "text/plain": [
       "<IPython.core.display.HTML object>"
      ]
     },
     "execution_count": 16,
     "metadata": {},
     "output_type": "execute_result"
    }
   ],
   "source": [
    "#For colored cells, currently blue cells, black text \n",
    "#https://stackoverflow.com/questions/18024769/adding-custom-styled-paragraphs-in-markdown-cells\n",
    "from IPython.core.display import HTML\n",
    "def css_styling():\n",
    "    styles = open(\"style.css\", \"r\").read()\n",
    "    return HTML(styles)\n",
    "css_styling()"
   ]
  },
  {
   "cell_type": "markdown",
   "metadata": {},
   "source": [
    "<div class=answer>\n",
    "*This should be a blue cell with black font if you set the filepath correctly*</font>\n",
    "<div/>"
   ]
  },
  {
   "cell_type": "markdown",
   "metadata": {},
   "source": [
    "## Exercise 0 - Jupyter Notebook \n",
    "\n",
    "### Keyboard Shortcuts\n",
    "\n",
    "Read this and try some out.\n",
    "http://maxmelnick.com/2016/04/19/python-beginner-tips-and-tricks.html\n",
    "\n",
    "My favorites are \"B,\" \"M,\" and \"Enter\" so far, but I'm working on more."
   ]
  },
  {
   "cell_type": "markdown",
   "metadata": {},
   "source": []
  },
  {
   "cell_type": "markdown",
   "metadata": {},
   "source": [
    "### Some plotting tricks\n",
    "\n",
    "Run the following code cell.  Notice the last (active) line resets the default font on your plots to a larger size.  You can use similar calls to change many more plotting defaults [link](https://matplotlib.org/api/matplotlib_configuration_api.html)."
   ]
  },
  {
   "cell_type": "code",
   "execution_count": 17,
   "metadata": {
    "collapsed": true
   },
   "outputs": [],
   "source": [
    "import math\n",
    "import numpy as np\n",
    "import matplotlib.pylab as plt\n",
    "%matplotlib inline\n",
    "\n",
    "plt.rcParams['font.size']=14\n",
    "\n",
    "#line below prints all possible default variables stored in the dictionary rcParams\n",
    "#plt.rcParams.keys()  "
   ]
  },
  {
   "cell_type": "markdown",
   "metadata": {},
   "source": [
    "### Passing function arguments\n",
    "These semester you have become very experienced passing functions as arguments in other functions.  For instance: "
   ]
  },
  {
   "cell_type": "code",
   "execution_count": 18,
   "metadata": {},
   "outputs": [
    {
     "name": "stdout",
     "output_type": "stream",
     "text": [
      "2\n"
     ]
    }
   ],
   "source": [
    "def q(x):\n",
    "    '''Calculates a simple mathematic function \n",
    "    \n",
    "    It is written using numpy's exponential function (not math) so it can operate on numpy arrays.\n",
    "    accepts: x - float\n",
    "    returns f(x) - float\n",
    "    '''\n",
    "    \n",
    "    return x\n",
    "\n",
    "def g(f,x):\n",
    "    '''Calls another function f(x) and prints its return value \n",
    "    \n",
    "    accepts: \n",
    "        x - float\n",
    "        f(x) - float\n",
    "    returns \n",
    "        None\n",
    "    '''\n",
    "    \n",
    "    print(f(x))\n",
    "    return None\n",
    "\n",
    "#call g to act on q at x=2, which prints q(x)=x.  \n",
    "#Very convoluted way to do something simple\n",
    "g(q,2)"
   ]
  },
  {
   "cell_type": "markdown",
   "metadata": {},
   "source": [
    "But what if we want to work with a more complicated function?  For instance what if I want to call the following: "
   ]
  },
  {
   "cell_type": "code",
   "execution_count": 19,
   "metadata": {
    "collapsed": true
   },
   "outputs": [],
   "source": [
    "def r(x,y,z):\n",
    "    return x+y+z"
   ]
  },
  {
   "cell_type": "markdown",
   "metadata": {},
   "source": [
    "You are probably thinking, this is easy - we can just do the same thing you did with ```x``` above, by passing it to g(f,x) as a separate argument.  But notice that you would have to redefine the function ```g``` to be ```g(f,x,y,z).```  Doesn't this seem inefficient?  \n",
    "\n",
    "*For instance, what if you want to write ```g``` so it could print the output of any function, not just design it for a single function?*\n",
    "\n",
    "Lets do that.  The method for doing so is to use a function parameter named ```*args``` or \"star args\".  "
   ]
  },
  {
   "cell_type": "code",
   "execution_count": 20,
   "metadata": {
    "collapsed": true
   },
   "outputs": [],
   "source": [
    "def g1(f,*args):\n",
    "    '''Calls another function f(x) and prints its return value \n",
    "    \n",
    "    accepts: \n",
    "        x - float\n",
    "        f(x) - float\n",
    "    returns \n",
    "        None\n",
    "    '''\n",
    "    for arg in args:\n",
    "        print(arg)\n",
    "    \n",
    "    print(\"You passed the function (object): \",f, \"with arguments:\" ,*args)\n",
    "\n",
    "    print(f(*args))\n",
    "    return None"
   ]
  },
  {
   "cell_type": "markdown",
   "metadata": {},
   "source": [
    "So lets run ```g1``` on the function r:"
   ]
  },
  {
   "cell_type": "code",
   "execution_count": 21,
   "metadata": {},
   "outputs": [
    {
     "name": "stdout",
     "output_type": "stream",
     "text": [
      "1\n",
      "2\n",
      "3\n",
      "You passed the function (object):  <function r at 0x000000000756EEA0> with arguments: 1 2 3\n",
      "6\n"
     ]
    }
   ],
   "source": [
    "g1(r,1,2,3)"
   ]
  },
  {
   "cell_type": "markdown",
   "metadata": {},
   "source": [
    "Play around with the codes above.  For instance, \n",
    "* call ```g1``` on another function which takes 2 or 4 arguments (instead of 1 or 3). \n",
    "* print individual values of ```*args``` - **see the last link below for this**\n",
    "\n",
    "<div class=answer>\n",
    "Answer below.  Add code cells as necessary.\n",
    "<div/>"
   ]
  },
  {
   "cell_type": "code",
   "execution_count": 22,
   "metadata": {},
   "outputs": [
    {
     "name": "stdout",
     "output_type": "stream",
     "text": [
      "5\n",
      "7\n",
      "You passed the function (object):  <function s at 0x000000000756EF28> with arguments: 5 7\n",
      "12\n"
     ]
    }
   ],
   "source": [
    "#your code here\n",
    "def s(x,y):\n",
    "    return x+y\n",
    "\n",
    "g1(s,5,7)"
   ]
  },
  {
   "cell_type": "markdown",
   "metadata": {},
   "source": [
    "Want to know more?  Here are a few links to show you the big picture:\n",
    "* https://www.python-course.eu/passing_arguments.php\n",
    "* http://www.informit.com/articles/article.aspx?p=2314818\n",
    "* https://www.saltycrane.com/blog/2008/01/how-to-use-args-and-kwargs-in-python/"
   ]
  },
  {
   "cell_type": "markdown",
   "metadata": {},
   "source": [
    "## Exercise 1: Intro to the Relaxation Method and Convergence\n",
    "\n",
    "Newman uses $f(x) = 2 - e^{-x}$ as his first test case.  Let's start by plotting that and simply checking that the solution in Newman 6.3.1 is approximately correct.  "
   ]
  },
  {
   "cell_type": "code",
   "execution_count": 23,
   "metadata": {},
   "outputs": [
    {
     "data": {
      "image/png": "[encoded data removed]",
      "text/plain": [
       "<matplotlib.figure.Figure at 0x7591b00>"
      ]
     },
     "metadata": {},
     "output_type": "display_data"
    }
   ],
   "source": [
    "def f(x):\n",
    "    '''Calculates a simple mathematic function from Newman 6.3.1\n",
    "    \n",
    "    It is written using numpy's exponential function (not math) so it can operate on numpy arrays.\n",
    "    accepts: x - float\n",
    "    returns f(x) - float\n",
    "    '''\n",
    "    \n",
    "    return 2 - np.exp(-x)\n",
    "\n",
    "#define the x-range\n",
    "x = np.linspace(0,3)\n",
    "\n",
    "#set up the plot\n",
    "fig = plt.figure(figsize=(7,7))\n",
    "ax = fig.add_subplot(111)\n",
    "\n",
    "#plot the function - both left hand side and right hand side\n",
    "ax.plot(x,f(x),label=r\"$2-e^{-x}$\")\n",
    "ax.plot(x,x,label=r\"$x$\",ls='--')\n",
    "\n",
    "#add good labels\n",
    "ax.legend(loc='best')\n",
    "ax.set_xlabel('x')\n",
    "ax.set_ylabel('f(x)')\n",
    "ax.set_aspect('equal')\n",
    "\n",
    "#add a label to be extra transparent\n",
    "text1 = ax.annotate(r'solution, $x^* \\approx 1.84$', xy=(1.84, 1.84), xytext=(1.8, 1.0),\n",
    "            arrowprops=dict(facecolor='black', shrink=0.05),\n",
    "            )"
   ]
  },
  {
   "cell_type": "markdown",
   "metadata": {},
   "source": [
    "*Notice how I added an arrow and text to the figure above?  This is very useful.*\n",
    "\n",
    "### Solve the equation $x=2-e^{-x}$ as in Newman, and include a measure of the error at each step."
   ]
  },
  {
   "cell_type": "code",
   "execution_count": 24,
   "metadata": {},
   "outputs": [
    {
     "name": "stdout",
     "output_type": "stream",
     "text": [
      "1.6321205588285577 0.36787944117144233\n",
      "1.8044854658474119 0.04188993577969419\n",
      "1.8354408939220457 0.0060973763784867635\n",
      "1.8404568553435368 0.0009521753003407681\n",
      "1.841255113911434 0.00015063143549983707\n",
      "1.8413817828128696 2.3879760329019322e-05\n",
      "1.8414018735357267 3.786954967267934e-06\n",
      "1.8414050598547234 6.005835888898029e-07\n",
      "1.8414055651879888 9.524900588053622e-08\n",
      "1.8414056453310121 1.5105949355800835e-08\n"
     ]
    }
   ],
   "source": [
    "#your code here\n",
    "from math import exp\n",
    "x = 1.0\n",
    "for k in range (10):\n",
    "    xprime = 2 - exp(-x)\n",
    "    error = (x-xprime)/(1-exp(x))\n",
    "    x = xprime\n",
    "    print(x,error)"
   ]
  },
  {
   "cell_type": "markdown",
   "metadata": {},
   "source": [
    "#### Prove mathematically that the Relaxation Method will work on the function above.  Show your work and briefly explain"
   ]
  },
  {
   "cell_type": "markdown",
   "metadata": {},
   "source": [
    "<div class=answer>\n",
    "<div/>\n",
    "As shown below, the derivative at the solution point is less than one."
   ]
  },
  {
   "cell_type": "code",
   "execution_count": 25,
   "metadata": {},
   "outputs": [
    {
     "name": "stdout",
     "output_type": "stream",
     "text": [
      "0.15881742610692068\n"
     ]
    }
   ],
   "source": [
    "print(exp(-1.84))"
   ]
  },
  {
   "cell_type": "markdown",
   "metadata": {},
   "source": [
    "## Exercise 2\n",
    "\n",
    "### Newman's Exercise 6.10: The percolation transition\n",
    "\n",
    "Consider the equation $x = 1 - \\ e^{-cx}$, where $c$ is a known parameter and $x$ is unknown.  This equation arises in a variety of situations, including the physics of contact processes, mathematical models of epidemics, and the theory of random graphs.\n",
    "\n",
    "####  First plot the function for the case $c=2$.  \n",
    "Mark both the trivial solution and the (approximate) non-trivial solution. \n",
    "\n",
    "**Lab-like exercise: **\n",
    "Write a full description of your plots for this section, as if you were in lab.  While it might not be so clear why this is named *the percolation transition* hopefully it is very clear why this is called *the epidemic threshold*.  Please include some insights related to this name in your description of these plots."
   ]
  },
  {
   "cell_type": "code",
   "execution_count": 26,
   "metadata": {},
   "outputs": [
    {
     "data": {
      "image/png": "[encoded data removed]",
      "text/plain": [
       "<matplotlib.figure.Figure at 0x7591390>"
      ]
     },
     "metadata": {},
     "output_type": "display_data"
    }
   ],
   "source": [
    "#your code here\n",
    "def f(c, x):\n",
    "    '''\n",
    "    Defines the function to be graphed\n",
    "    \n",
    "    c: A user determined constant\n",
    "    x: Point to be evaluated at\n",
    "    \n",
    "    returns: the function'''\n",
    "    return 1- exp(-c*x)\n",
    "\n",
    "x = np.linspace(0,2)\n",
    "y = []\n",
    "for i in x:\n",
    "    y.append(f(2,i))\n",
    "    \n",
    "plt.plot(x,y, label=r\"$1-e^{-2x}$\")\n",
    "plt.plot(x,x, label=r\"$x$\",ls='--')\n",
    "plt.xlabel('x')\n",
    "plt.ylabel('f(x)')\n",
    "plt.legend(loc = 'best')\n",
    "text1 = plt.annotate(r'solution, $x^* \\approx 0.79$', xy=(0.79, 0.79), xytext=(0.75, 1.5),\n",
    "            arrowprops=dict(facecolor='black', shrink=0.05),\n",
    "            )\n",
    "plt.show()"
   ]
  },
  {
   "cell_type": "markdown",
   "metadata": {},
   "source": [
    "The y-axis is the function $1-e^{-2x}$. The graph compares this function against the function $y=x$ to find the roots of the equation."
   ]
  },
  {
   "cell_type": "markdown",
   "metadata": {},
   "source": [
    "#### Write a program to solve this equation for $x$ using the relaxation method for the case $c=2$.  \n",
    "Calculate your solution to an accuracy of at least $10^{-6}$."
   ]
  },
  {
   "cell_type": "code",
   "execution_count": 27,
   "metadata": {},
   "outputs": [
    {
     "data": {
      "text/plain": [
       "0.7968126311118457"
      ]
     },
     "execution_count": 27,
     "metadata": {},
     "output_type": "execute_result"
    }
   ],
   "source": [
    "#your code here\n",
    "def relax (accuracy, xinit, f, *args):\n",
    "    '''\n",
    "    Accepts a function to be evaluated using the relaxation method.\n",
    "    The relaxation method takes in an initial value and evaluates the function\n",
    "    at this value. It then iterates until the difference until the new value\n",
    "    and the old value are within the tolerance\n",
    "    \n",
    "    accuracy: the user specified accuracy between x and xprime\n",
    "    xinit: the starting x point\n",
    "    f: the fuction to evaluate with\n",
    "    \n",
    "    x: returns the root of the function'''\n",
    "    x = xinit\n",
    "    error = 1\n",
    "    while (error > accuracy):\n",
    "        xprime = f(x, *args)\n",
    "        error = np.abs(x-xprime)\n",
    "        x = xprime\n",
    "    return x\n",
    "\n",
    "accuracy = 10**-6\n",
    "x_start = 1\n",
    "c = 2\n",
    "relax(accuracy,x_start,f, c)"
   ]
  },
  {
   "cell_type": "markdown",
   "metadata": {},
   "source": [
    "#### Modify your program to calculate the solution for values of $c$ from 0 to 3 in steps of 0.01 and make a plot of $x$ as a function of $c$.  \n",
    "   \n",
    "   You should see a clear transition from a regime in which $x=0$ to a regime of nonzero $x$.   This is another example of a phase transition.   In physics this transition is known as the *percolation transition*;   in epidemiology it is the *epidemic threshold*."
   ]
  },
  {
   "cell_type": "code",
   "execution_count": 28,
   "metadata": {},
   "outputs": [
    {
     "data": {
      "image/png": "[encoded data removed]",
      "text/plain": [
       "<matplotlib.figure.Figure at 0x7989358>"
      ]
     },
     "metadata": {},
     "output_type": "display_data"
    }
   ],
   "source": [
    "#your code here\n",
    "c = np.linspace(0,3, 301, endpoint = True)\n",
    "xarray = []\n",
    "for i in c:\n",
    "    xarray.append(relax(accuracy, x_start, f, i))\n",
    "\n",
    "#print(xarray)\n",
    "plt.plot(c, xarray)\n",
    "plt.xlabel(\"C\")\n",
    "plt.ylabel(\"X\")\n",
    "plt.title(\"Percolation Transition\")\n",
    "plt.show()"
   ]
  },
  {
   "cell_type": "markdown",
   "metadata": {},
   "source": [
    "<div class=answer>\n",
    "<div/>\n",
    "The x-axis of this plot is increasing values of c in steps of 0.01, and the y-axis is the corresponding x solution at which the error becomes less than the specified accuracy. Plotting from c=0 to c=1, the x solution is equal to 0. However, once  you go larger than c=1, the x-solution becomes real non-zero answers."
   ]
  },
  {
   "cell_type": "markdown",
   "metadata": {},
   "source": [
    "## Exercise 3: Benchmark function for rootfinding\n",
    "You will use the function\n",
    "$$\n",
    "f(x)=\\cos x - x\n",
    "$$\n",
    "\n",
    "as a benchmark  in developing the following routines.  To orient yourself, first make a plot of the benchmark function. You will want to plot it over a\n",
    "reasonably wide range, *e.g.*, $-10\\leq x \\leq 10$, since you will be playing with different choices of initial intervals and guess points in this range.\n"
   ]
  },
  {
   "cell_type": "code",
   "execution_count": 29,
   "metadata": {},
   "outputs": [
    {
     "data": {
      "image/png": "[encoded data removed]",
      "text/plain": [
       "<matplotlib.figure.Figure at 0x79a3780>"
      ]
     },
     "metadata": {},
     "output_type": "display_data"
    }
   ],
   "source": [
    "#your plot here\n",
    "x = np.linspace (-10,10,200)\n",
    "z = []\n",
    "for i in x:\n",
    "    z.append(np.cos(i)-i)\n",
    "\n",
    "plt.plot(x,z)\n",
    "plt.axhline(y=0,ls='--',color='gray')\n",
    "plt.show()\n",
    "#include the following line so you can see where your function crosses zero.\n",
    "#ax.axhline(y=0,ls='--',color='gray')"
   ]
  },
  {
   "cell_type": "markdown",
   "metadata": {},
   "source": [
    "## Exercise 4 - introduction to bisection"
   ]
  },
  {
   "cell_type": "markdown",
   "metadata": {},
   "source": [
    "For efficiency, I have provided a basic code on the bisection method.  Read the code below carefully and check that it is written as you would expect."
   ]
  },
  {
   "cell_type": "markdown",
   "metadata": {},
   "source": [
    "The bisection method is our baseline method, to which we will be\n",
    "comparing the other new members.  Moreover, we will be using bisection\n",
    "steps when we \"hybridize\" the bisection method with the other, more\n",
    "sophisticated rootfinding methods.  So, let us start off our new\n",
    "rootfind methods by bundling the code above into a function.  \n",
    "\n",
    "Take a close look, and make sure you understand the logic.  The loop structure is designed to provide a better starting point for the approach we will need to take with in the other rootfinding methods.\n",
    "\n",
    "For instance, all these other methods are based on the idea of finding successive approximations $x_i$ ($i=0$, $1$, $2$, $\\ldots$).  Then the \"error\" is estimated the difference between the two most recent approximate roots, *i.e.*,\n",
    "$$\n",
    "\\epsilon_i = x_i - x_{i-1}.\n",
    "$$"
   ]
  },
  {
   "cell_type": "code",
   "execution_count": 30,
   "metadata": {
    "collapsed": true
   },
   "outputs": [],
   "source": [
    "\"\"\" rootfind.py -- library of rootfinding routines\n",
    "     \n",
    "    Language: Python 3\n",
    "    Mark A. Caprio\n",
    "    University of Notre Dame\n",
    "    Written for Computational Methods in Physics, Spring 2014.\n",
    "\"\"\"\n",
    "\n",
    "def bisection(f,interval,tolerance,verbose=False):\n",
    "    \"\"\" Find root by bisection.\n",
    "\n",
    "    The 'approximation' x_i at each iteration is defined by the\n",
    "    midpoint of the interval.\n",
    "    \n",
    "    The 'error' x_i-x_(i-1) is defined by the change in midpoint from\n",
    "    the midpoint of the last interval.  (Of course, for bisection,\n",
    "    that is always half the width of the new interval.)\n",
    "\n",
    "    Returns None if the sign of the function does not change on the\n",
    "    given interval.  Otherwise, returns final midpoint x_i when\n",
    "    termination condition is reached.\n",
    "\n",
    "    f: function for rootfinding\n",
    "    interval: tuple containing initial interval endpoints (xa,xb)\n",
    "    tolerance: difference x_i-x_(i-1) at which search should terminate\n",
    "    verbose (optional): whether or not to print iteration log\n",
    "    \"\"\"\n",
    "\n",
    "    # set up initial bracketing interval\n",
    "    #   Note: Sign of function *must* change in this interval for method to work.\n",
    "    (xa,xb) = interval\n",
    "    fxa = f(xa)\n",
    "    fxb = f(xb)\n",
    "    if (fxa*fxb >=0):\n",
    "        # no sign change in interval\n",
    "        return None\n",
    "\n",
    "    # set up for first iteration\n",
    "    xm = (xb + xa)/2\n",
    "    error = (xb - xa)/2\n",
    "    iteration_count = 0\n",
    "\n",
    "    # bisect until tolerance reached\n",
    "    while (abs(error) > tolerance):\n",
    "\n",
    "        # increment iteration count\n",
    "        iteration_count += 1\n",
    "        \n",
    "        # evaluate function\n",
    "        fxa = f(xa)\n",
    "        fxb = f(xb)\n",
    "        fxm = f(xm)\n",
    "\n",
    "        # find which subinterval contains root\n",
    "        if (fxm == 0):\n",
    "            # accidentally landed on root (often occurs for \"toy\" test intervals)\n",
    "            xa = xm\n",
    "            xb = xm\n",
    "        elif ((fxa * fxm) < 0):\n",
    "            # sign change is in left half of interval\n",
    "            xb = xm\n",
    "        else:\n",
    "            # sign change is in right half of interval\n",
    "            xa = xm\n",
    "\n",
    "        # find new midpoint (and change in midpoint)\n",
    "        xm_old = xm\n",
    "        xm = (xb + xa)/2\n",
    "        error = xm - xm_old\n",
    "\n",
    "        # verbose iteration log\n",
    "        if (verbose):\n",
    "            print(\"iteration\", iteration_count, \"(bisection):\",\n",
    "                  \"interval\", (xa, xb), \"root\", xm)\n",
    "            \n",
    "    return xm"
   ]
  },
  {
   "cell_type": "markdown",
   "metadata": {},
   "source": [
    " When this estimated error falls below the tolerance, we terminate and return the \"last guess\" $x_i$.  We can think about the bisection method somewhat the same way (at least, we can phrase the termination condition and return value the same way) if we think of the \"midpoint\" of our interval as $x_i$.  \n",
    " \n",
    " **See the usage example below:**"
   ]
  },
  {
   "cell_type": "code",
   "execution_count": 31,
   "metadata": {},
   "outputs": [
    {
     "name": "stdout",
     "output_type": "stream",
     "text": [
      "bisection(f_bench,(-1,0),1e-10,verbose=True)\n",
      "None\n",
      "bisection(f_bench,(0,1),1e-10,verbose=True)\n",
      "iteration 1 (bisection): interval (0.5, 1) root 0.75\n",
      "iteration 2 (bisection): interval (0.5, 0.75) root 0.625\n",
      "iteration 3 (bisection): interval (0.625, 0.75) root 0.6875\n",
      "iteration 4 (bisection): interval (0.6875, 0.75) root 0.71875\n",
      "iteration 5 (bisection): interval (0.71875, 0.75) root 0.734375\n",
      "iteration 6 (bisection): interval (0.734375, 0.75) root 0.7421875\n",
      "iteration 7 (bisection): interval (0.734375, 0.7421875) root 0.73828125\n",
      "iteration 8 (bisection): interval (0.73828125, 0.7421875) root 0.740234375\n",
      "iteration 9 (bisection): interval (0.73828125, 0.740234375) root 0.7392578125\n",
      "iteration 10 (bisection): interval (0.73828125, 0.7392578125) root 0.73876953125\n",
      "iteration 11 (bisection): interval (0.73876953125, 0.7392578125) root 0.739013671875\n",
      "iteration 12 (bisection): interval (0.739013671875, 0.7392578125) root 0.7391357421875\n",
      "iteration 13 (bisection): interval (0.739013671875, 0.7391357421875) root 0.73907470703125\n",
      "iteration 14 (bisection): interval (0.73907470703125, 0.7391357421875) root 0.739105224609375\n",
      "iteration 15 (bisection): interval (0.73907470703125, 0.739105224609375) root 0.7390899658203125\n",
      "iteration 16 (bisection): interval (0.73907470703125, 0.7390899658203125) root 0.7390823364257812\n",
      "iteration 17 (bisection): interval (0.7390823364257812, 0.7390899658203125) root 0.7390861511230469\n",
      "iteration 18 (bisection): interval (0.7390823364257812, 0.7390861511230469) root 0.7390842437744141\n",
      "iteration 19 (bisection): interval (0.7390842437744141, 0.7390861511230469) root 0.7390851974487305\n",
      "iteration 20 (bisection): interval (0.7390842437744141, 0.7390851974487305) root 0.7390847206115723\n",
      "iteration 21 (bisection): interval (0.7390847206115723, 0.7390851974487305) root 0.7390849590301514\n",
      "iteration 22 (bisection): interval (0.7390849590301514, 0.7390851974487305) root 0.7390850782394409\n",
      "iteration 23 (bisection): interval (0.7390850782394409, 0.7390851974487305) root 0.7390851378440857\n",
      "iteration 24 (bisection): interval (0.7390850782394409, 0.7390851378440857) root 0.7390851080417633\n",
      "iteration 25 (bisection): interval (0.7390851080417633, 0.7390851378440857) root 0.7390851229429245\n",
      "iteration 26 (bisection): interval (0.7390851229429245, 0.7390851378440857) root 0.7390851303935051\n",
      "iteration 27 (bisection): interval (0.7390851303935051, 0.7390851378440857) root 0.7390851341187954\n",
      "iteration 28 (bisection): interval (0.7390851303935051, 0.7390851341187954) root 0.7390851322561502\n",
      "iteration 29 (bisection): interval (0.7390851322561502, 0.7390851341187954) root 0.7390851331874728\n",
      "iteration 30 (bisection): interval (0.7390851331874728, 0.7390851341187954) root 0.7390851336531341\n",
      "iteration 31 (bisection): interval (0.7390851331874728, 0.7390851336531341) root 0.7390851334203035\n",
      "iteration 32 (bisection): interval (0.7390851331874728, 0.7390851334203035) root 0.7390851333038881\n",
      "iteration 33 (bisection): interval (0.7390851331874728, 0.7390851333038881) root 0.7390851332456805\n",
      "0.7390851332456805\n"
     ]
    }
   ],
   "source": [
    "# test code\n",
    "if (__name__ == \"__main__\"):\n",
    "\n",
    "    # read in external libraries\n",
    "    import math\n",
    "\n",
    "    # define function for rootfinding\n",
    "    def f_bench(x):\n",
    "        return math.cos(x) - x\n",
    "    def fp_bench(x):\n",
    "        return -math.sin(x) - 1\n",
    "\n",
    "    # bisection tests\n",
    "\n",
    "    print(\"bisection(f_bench,(-1,0),1e-10,verbose=True)\")\n",
    "    print(bisection(f_bench,(-1,0),1e-10,verbose=True))\n",
    "\n",
    "    print(\"bisection(f_bench,(0,1),1e-10,verbose=True)\")\n",
    "    print(bisection(f_bench,(0,1),1e-10,verbose=True))"
   ]
  },
  {
   "cell_type": "markdown",
   "metadata": {},
   "source": [
    "If the tolerance is $10^{-3}$, how many bisections do you expect to need?  What if the tolerance is $10^{-6}$ ?  Or $10^{-9}$ ?  Try this out, and record the number of iteration and the approximate root (or, rather, root-containing interval) you find in each case, for $\\cos x - x$.\n",
    " \n",
    " *Hint:* An incredibly-convenient almost-equality is $2^{10} = 1024 \\approx 1000 = 10^3$.  Remember this.  Forever.  This is why 1024 bytes make a \"kilobyte\" to a computer scientist."
   ]
  },
  {
   "cell_type": "code",
   "execution_count": 32,
   "metadata": {},
   "outputs": [
    {
     "name": "stdout",
     "output_type": "stream",
     "text": [
      "bisection(f_bench,(0,1),1e-9,verbose=True)\n",
      "iteration 1 (bisection): interval (0.5, 1) root 0.75\n",
      "iteration 2 (bisection): interval (0.5, 0.75) root 0.625\n",
      "iteration 3 (bisection): interval (0.625, 0.75) root 0.6875\n",
      "iteration 4 (bisection): interval (0.6875, 0.75) root 0.71875\n",
      "iteration 5 (bisection): interval (0.71875, 0.75) root 0.734375\n",
      "iteration 6 (bisection): interval (0.734375, 0.75) root 0.7421875\n",
      "iteration 7 (bisection): interval (0.734375, 0.7421875) root 0.73828125\n",
      "iteration 8 (bisection): interval (0.73828125, 0.7421875) root 0.740234375\n",
      "iteration 9 (bisection): interval (0.73828125, 0.740234375) root 0.7392578125\n",
      "iteration 10 (bisection): interval (0.73828125, 0.7392578125) root 0.73876953125\n",
      "iteration 11 (bisection): interval (0.73876953125, 0.7392578125) root 0.739013671875\n",
      "iteration 12 (bisection): interval (0.739013671875, 0.7392578125) root 0.7391357421875\n",
      "iteration 13 (bisection): interval (0.739013671875, 0.7391357421875) root 0.73907470703125\n",
      "iteration 14 (bisection): interval (0.73907470703125, 0.7391357421875) root 0.739105224609375\n",
      "iteration 15 (bisection): interval (0.73907470703125, 0.739105224609375) root 0.7390899658203125\n",
      "iteration 16 (bisection): interval (0.73907470703125, 0.7390899658203125) root 0.7390823364257812\n",
      "iteration 17 (bisection): interval (0.7390823364257812, 0.7390899658203125) root 0.7390861511230469\n",
      "iteration 18 (bisection): interval (0.7390823364257812, 0.7390861511230469) root 0.7390842437744141\n",
      "iteration 19 (bisection): interval (0.7390842437744141, 0.7390861511230469) root 0.7390851974487305\n",
      "iteration 20 (bisection): interval (0.7390842437744141, 0.7390851974487305) root 0.7390847206115723\n",
      "iteration 21 (bisection): interval (0.7390847206115723, 0.7390851974487305) root 0.7390849590301514\n",
      "iteration 22 (bisection): interval (0.7390849590301514, 0.7390851974487305) root 0.7390850782394409\n",
      "iteration 23 (bisection): interval (0.7390850782394409, 0.7390851974487305) root 0.7390851378440857\n",
      "iteration 24 (bisection): interval (0.7390850782394409, 0.7390851378440857) root 0.7390851080417633\n",
      "iteration 25 (bisection): interval (0.7390851080417633, 0.7390851378440857) root 0.7390851229429245\n",
      "iteration 26 (bisection): interval (0.7390851229429245, 0.7390851378440857) root 0.7390851303935051\n",
      "iteration 27 (bisection): interval (0.7390851303935051, 0.7390851378440857) root 0.7390851341187954\n",
      "iteration 28 (bisection): interval (0.7390851303935051, 0.7390851341187954) root 0.7390851322561502\n",
      "iteration 29 (bisection): interval (0.7390851322561502, 0.7390851341187954) root 0.7390851331874728\n",
      "0.7390851331874728\n"
     ]
    }
   ],
   "source": [
    "    print(\"bisection(f_bench,(0,1),1e-9,verbose=True)\")\n",
    "    print(bisection(f_bench,(0,1),1e-9,verbose=True))"
   ]
  },
  {
   "cell_type": "markdown",
   "metadata": {},
   "source": [
    "<div class=answer>\n",
    "<div/>\n",
    "For a tolerance of $10^{-3}$ we will use 10 bisections, for a tolerance of $10^{-6}$ we will use 20 bisections, and finally for a tolerance of $10^{-9}$ we will use 30 bisections."
   ]
  },
  {
   "cell_type": "markdown",
   "metadata": {},
   "source": [
    "Try ```bisection``` out on the benchmark function, using the interval $(0,1)$ and a tolerance $10^{-10}$.  How many iterations are required? "
   ]
  },
  {
   "cell_type": "code",
   "execution_count": 33,
   "metadata": {},
   "outputs": [
    {
     "name": "stdout",
     "output_type": "stream",
     "text": [
      "bisection(f_bench,(0,1),1e-10,verbose=True)\n",
      "iteration 1 (bisection): interval (0.5, 1) root 0.75\n",
      "iteration 2 (bisection): interval (0.5, 0.75) root 0.625\n",
      "iteration 3 (bisection): interval (0.625, 0.75) root 0.6875\n",
      "iteration 4 (bisection): interval (0.6875, 0.75) root 0.71875\n",
      "iteration 5 (bisection): interval (0.71875, 0.75) root 0.734375\n",
      "iteration 6 (bisection): interval (0.734375, 0.75) root 0.7421875\n",
      "iteration 7 (bisection): interval (0.734375, 0.7421875) root 0.73828125\n",
      "iteration 8 (bisection): interval (0.73828125, 0.7421875) root 0.740234375\n",
      "iteration 9 (bisection): interval (0.73828125, 0.740234375) root 0.7392578125\n",
      "iteration 10 (bisection): interval (0.73828125, 0.7392578125) root 0.73876953125\n",
      "iteration 11 (bisection): interval (0.73876953125, 0.7392578125) root 0.739013671875\n",
      "iteration 12 (bisection): interval (0.739013671875, 0.7392578125) root 0.7391357421875\n",
      "iteration 13 (bisection): interval (0.739013671875, 0.7391357421875) root 0.73907470703125\n",
      "iteration 14 (bisection): interval (0.73907470703125, 0.7391357421875) root 0.739105224609375\n",
      "iteration 15 (bisection): interval (0.73907470703125, 0.739105224609375) root 0.7390899658203125\n",
      "iteration 16 (bisection): interval (0.73907470703125, 0.7390899658203125) root 0.7390823364257812\n",
      "iteration 17 (bisection): interval (0.7390823364257812, 0.7390899658203125) root 0.7390861511230469\n",
      "iteration 18 (bisection): interval (0.7390823364257812, 0.7390861511230469) root 0.7390842437744141\n",
      "iteration 19 (bisection): interval (0.7390842437744141, 0.7390861511230469) root 0.7390851974487305\n",
      "iteration 20 (bisection): interval (0.7390842437744141, 0.7390851974487305) root 0.7390847206115723\n",
      "iteration 21 (bisection): interval (0.7390847206115723, 0.7390851974487305) root 0.7390849590301514\n",
      "iteration 22 (bisection): interval (0.7390849590301514, 0.7390851974487305) root 0.7390850782394409\n",
      "iteration 23 (bisection): interval (0.7390850782394409, 0.7390851974487305) root 0.7390851378440857\n",
      "iteration 24 (bisection): interval (0.7390850782394409, 0.7390851378440857) root 0.7390851080417633\n",
      "iteration 25 (bisection): interval (0.7390851080417633, 0.7390851378440857) root 0.7390851229429245\n",
      "iteration 26 (bisection): interval (0.7390851229429245, 0.7390851378440857) root 0.7390851303935051\n",
      "iteration 27 (bisection): interval (0.7390851303935051, 0.7390851378440857) root 0.7390851341187954\n",
      "iteration 28 (bisection): interval (0.7390851303935051, 0.7390851341187954) root 0.7390851322561502\n",
      "iteration 29 (bisection): interval (0.7390851322561502, 0.7390851341187954) root 0.7390851331874728\n",
      "iteration 30 (bisection): interval (0.7390851331874728, 0.7390851341187954) root 0.7390851336531341\n",
      "iteration 31 (bisection): interval (0.7390851331874728, 0.7390851336531341) root 0.7390851334203035\n",
      "iteration 32 (bisection): interval (0.7390851331874728, 0.7390851334203035) root 0.7390851333038881\n",
      "iteration 33 (bisection): interval (0.7390851331874728, 0.7390851333038881) root 0.7390851332456805\n",
      "0.7390851332456805\n"
     ]
    }
   ],
   "source": [
    "print(\"bisection(f_bench,(0,1),1e-10,verbose=True)\")\n",
    "print(bisection(f_bench,(0,1),1e-10,verbose=True))"
   ]
  },
  {
   "cell_type": "markdown",
   "metadata": {},
   "source": [
    "<div class=answer>\n",
    "<div/>\n",
    "To reach a tolerance of $10^{-10}$ with the benchmark function it requires 34 iterations."
   ]
  },
  {
   "cell_type": "markdown",
   "metadata": {},
   "source": [
    "What happens if you ask for a tolerance of $10^{-21}$?  Does it take as many iterations as you expect?  Do you get what you asked for?  Explain roughly what is going on. "
   ]
  },
  {
   "cell_type": "code",
   "execution_count": 34,
   "metadata": {},
   "outputs": [
    {
     "name": "stdout",
     "output_type": "stream",
     "text": [
      "bisection(f_bench,(0,1),1e-21,verbose=True)\n",
      "iteration 1 (bisection): interval (0.5, 1) root 0.75\n",
      "iteration 2 (bisection): interval (0.5, 0.75) root 0.625\n",
      "iteration 3 (bisection): interval (0.625, 0.75) root 0.6875\n",
      "iteration 4 (bisection): interval (0.6875, 0.75) root 0.71875\n",
      "iteration 5 (bisection): interval (0.71875, 0.75) root 0.734375\n",
      "iteration 6 (bisection): interval (0.734375, 0.75) root 0.7421875\n",
      "iteration 7 (bisection): interval (0.734375, 0.7421875) root 0.73828125\n",
      "iteration 8 (bisection): interval (0.73828125, 0.7421875) root 0.740234375\n",
      "iteration 9 (bisection): interval (0.73828125, 0.740234375) root 0.7392578125\n",
      "iteration 10 (bisection): interval (0.73828125, 0.7392578125) root 0.73876953125\n",
      "iteration 11 (bisection): interval (0.73876953125, 0.7392578125) root 0.739013671875\n",
      "iteration 12 (bisection): interval (0.739013671875, 0.7392578125) root 0.7391357421875\n",
      "iteration 13 (bisection): interval (0.739013671875, 0.7391357421875) root 0.73907470703125\n",
      "iteration 14 (bisection): interval (0.73907470703125, 0.7391357421875) root 0.739105224609375\n",
      "iteration 15 (bisection): interval (0.73907470703125, 0.739105224609375) root 0.7390899658203125\n",
      "iteration 16 (bisection): interval (0.73907470703125, 0.7390899658203125) root 0.7390823364257812\n",
      "iteration 17 (bisection): interval (0.7390823364257812, 0.7390899658203125) root 0.7390861511230469\n",
      "iteration 18 (bisection): interval (0.7390823364257812, 0.7390861511230469) root 0.7390842437744141\n",
      "iteration 19 (bisection): interval (0.7390842437744141, 0.7390861511230469) root 0.7390851974487305\n",
      "iteration 20 (bisection): interval (0.7390842437744141, 0.7390851974487305) root 0.7390847206115723\n",
      "iteration 21 (bisection): interval (0.7390847206115723, 0.7390851974487305) root 0.7390849590301514\n",
      "iteration 22 (bisection): interval (0.7390849590301514, 0.7390851974487305) root 0.7390850782394409\n",
      "iteration 23 (bisection): interval (0.7390850782394409, 0.7390851974487305) root 0.7390851378440857\n",
      "iteration 24 (bisection): interval (0.7390850782394409, 0.7390851378440857) root 0.7390851080417633\n",
      "iteration 25 (bisection): interval (0.7390851080417633, 0.7390851378440857) root 0.7390851229429245\n",
      "iteration 26 (bisection): interval (0.7390851229429245, 0.7390851378440857) root 0.7390851303935051\n",
      "iteration 27 (bisection): interval (0.7390851303935051, 0.7390851378440857) root 0.7390851341187954\n",
      "iteration 28 (bisection): interval (0.7390851303935051, 0.7390851341187954) root 0.7390851322561502\n",
      "iteration 29 (bisection): interval (0.7390851322561502, 0.7390851341187954) root 0.7390851331874728\n",
      "iteration 30 (bisection): interval (0.7390851331874728, 0.7390851341187954) root 0.7390851336531341\n",
      "iteration 31 (bisection): interval (0.7390851331874728, 0.7390851336531341) root 0.7390851334203035\n",
      "iteration 32 (bisection): interval (0.7390851331874728, 0.7390851334203035) root 0.7390851333038881\n",
      "iteration 33 (bisection): interval (0.7390851331874728, 0.7390851333038881) root 0.7390851332456805\n",
      "iteration 34 (bisection): interval (0.7390851331874728, 0.7390851332456805) root 0.7390851332165767\n",
      "iteration 35 (bisection): interval (0.7390851331874728, 0.7390851332165767) root 0.7390851332020247\n",
      "iteration 36 (bisection): interval (0.7390851332020247, 0.7390851332165767) root 0.7390851332093007\n",
      "iteration 37 (bisection): interval (0.7390851332093007, 0.7390851332165767) root 0.7390851332129387\n",
      "iteration 38 (bisection): interval (0.7390851332129387, 0.7390851332165767) root 0.7390851332147577\n",
      "iteration 39 (bisection): interval (0.7390851332147577, 0.7390851332165767) root 0.7390851332156672\n",
      "iteration 40 (bisection): interval (0.7390851332147577, 0.7390851332156672) root 0.7390851332152124\n",
      "iteration 41 (bisection): interval (0.7390851332147577, 0.7390851332152124) root 0.739085133214985\n",
      "iteration 42 (bisection): interval (0.739085133214985, 0.7390851332152124) root 0.7390851332150987\n",
      "iteration 43 (bisection): interval (0.7390851332150987, 0.7390851332152124) root 0.7390851332151556\n",
      "iteration 44 (bisection): interval (0.7390851332151556, 0.7390851332152124) root 0.739085133215184\n",
      "iteration 45 (bisection): interval (0.7390851332151556, 0.739085133215184) root 0.7390851332151698\n",
      "iteration 46 (bisection): interval (0.7390851332151556, 0.7390851332151698) root 0.7390851332151627\n",
      "iteration 47 (bisection): interval (0.7390851332151556, 0.7390851332151627) root 0.7390851332151591\n",
      "iteration 48 (bisection): interval (0.7390851332151591, 0.7390851332151627) root 0.7390851332151609\n",
      "iteration 49 (bisection): interval (0.7390851332151591, 0.7390851332151609) root 0.73908513321516\n",
      "iteration 50 (bisection): interval (0.73908513321516, 0.7390851332151609) root 0.7390851332151605\n",
      "iteration 51 (bisection): interval (0.7390851332151605, 0.7390851332151609) root 0.7390851332151607\n",
      "iteration 52 (bisection): interval (0.7390851332151607, 0.7390851332151607) root 0.7390851332151607\n",
      "0.7390851332151607\n"
     ]
    }
   ],
   "source": [
    "print(\"bisection(f_bench,(0,1),1e-21,verbose=True)\")\n",
    "print(bisection(f_bench,(0,1),1e-21,verbose=True))"
   ]
  },
  {
   "cell_type": "markdown",
   "metadata": {},
   "source": [
    "<div class=answer>\n",
    "<div/>\n",
    "With interval of $10^{-21}$ we will not obtain the number of iterations as expected because the computer will not be able to calculate to that tolerance."
   ]
  },
  {
   "cell_type": "markdown",
   "metadata": {},
   "source": [
    "What happens if you use the interval $(-1,0)$, and why?"
   ]
  },
  {
   "cell_type": "markdown",
   "metadata": {},
   "source": [
    "<div class=answer>\n",
    "<div/>\n",
    "It will not find a solution because the function finds that for the two ends of the interval will output two points with the same sign.\n"
   ]
  },
  {
   "cell_type": "markdown",
   "metadata": {},
   "source": [
    "## Exercise 5: Wien's Displacement Constant\n",
    "Work out Newman's 6.13 **in a lab format**.  As in the percolation problem, \n",
    "* plot and label the numerical function you are trying to solve before \"cranking away.\"  \n",
    "* write a thoughtful description about each plot\n",
    "* take note of the tolerance you choose and the number of steps required to solve.\n",
    "\n",
    "You may use the scipy constants library if you like:\n",
    "https://docs.scipy.org/doc/scipy/reference/constants.html"
   ]
  },
  {
   "cell_type": "code",
   "execution_count": 35,
   "metadata": {},
   "outputs": [
    {
     "name": "stdout",
     "output_type": "stream",
     "text": [
      "299792458.0\n",
      "299792458.0\n"
     ]
    }
   ],
   "source": [
    "from scipy.constants import c\n",
    "print(c)\n",
    "\n",
    "#or even better, remember to track where your functions come from:\n",
    "from scipy import constants as const\n",
    "print(const.c)"
   ]
  },
  {
   "cell_type": "code",
   "execution_count": 66,
   "metadata": {},
   "outputs": [
    {
     "name": "stderr",
     "output_type": "stream",
     "text": [
      "C:\\Users\\workshop\\Anaconda3\\lib\\site-packages\\ipykernel\\__main__.py:6: RuntimeWarning: overflow encountered in exp\n"
     ]
    },
    {
     "data": {
      "text/plain": [
       "<matplotlib.text.Text at 0xa50c940>"
      ]
     },
     "execution_count": 66,
     "metadata": {},
     "output_type": "execute_result"
    },
    {
     "data": {
      "image/png": "[encoded data removed]",
      "text/plain": [
       "<matplotlib.figure.Figure at 0xa4c6898>"
      ]
     },
     "metadata": {},
     "output_type": "display_data"
    }
   ],
   "source": [
    "import numpy as np\n",
    "\n",
    "def intensity(c,T,lamb):\n",
    "    k = 1.3806e-23\n",
    "    h = 6.626e-34 \n",
    "    return 2*math.pi*h*c**2*lamb**(-5)/(np.exp(h*c/(lamb*k*T)-1))\n",
    "\n",
    "lam = np.logspace(-10,-6,400)\n",
    "I = []\n",
    "T = 6000\n",
    "\n",
    "\n",
    "for i in lam:\n",
    "    I.append(intensity(c,T,i))\n",
    "    \n",
    "plt.plot(lam,I)\n",
    "plt.xlabel(\"$Wavelength(m)$\")\n",
    "plt.ylabel(\"$Intensity(W/m^2)$\")\n",
    "plt.title(\"$I(\\lambda)$\")"
   ]
  },
  {
   "cell_type": "code",
   "execution_count": 71,
   "metadata": {},
   "outputs": [
    {
     "name": "stdout",
     "output_type": "stream",
     "text": [
      "iteration 1 (bisection): interval (4.995877463472001, 3.9967019707776013) root 4.496289717124801\n",
      "iteration 2 (bisection): interval (4.995877463472001, 4.496289717124801) root 4.746083590298401\n",
      "iteration 3 (bisection): interval (4.995877463472001, 4.746083590298401) root 4.8709805268852016\n",
      "iteration 4 (bisection): interval (4.995877463472001, 4.8709805268852016) root 4.933428995178602\n",
      "iteration 5 (bisection): interval (4.995877463472001, 4.933428995178602) root 4.964653229325302\n",
      "iteration 6 (bisection): interval (4.995877463472001, 4.964653229325302) root 4.980265346398651\n",
      "iteration 7 (bisection): interval (4.980265346398651, 4.964653229325302) root 4.972459287861977\n",
      "iteration 8 (bisection): interval (4.972459287861977, 4.964653229325302) root 4.968556258593639\n",
      "iteration 9 (bisection): interval (4.968556258593639, 4.964653229325302) root 4.96660474395947\n",
      "iteration 10 (bisection): interval (4.96660474395947, 4.964653229325302) root 4.965628986642386\n",
      "iteration 11 (bisection): interval (4.965628986642386, 4.964653229325302) root 4.965141107983844\n",
      "iteration 12 (bisection): interval (4.965141107983844, 4.964653229325302) root 4.9648971686545735\n",
      "iteration 13 (bisection): interval (4.965141107983844, 4.9648971686545735) root 4.965019138319208\n",
      "iteration 14 (bisection): interval (4.965141107983844, 4.965019138319208) root 4.965080123151527\n",
      "iteration 15 (bisection): interval (4.965141107983844, 4.965080123151527) root 4.965110615567685\n",
      "iteration 16 (bisection): interval (4.965141107983844, 4.965110615567685) root 4.965125861775764\n",
      "iteration 17 (bisection): interval (4.965125861775764, 4.965110615567685) root 4.9651182386717245\n",
      "iteration 18 (bisection): interval (4.9651182386717245, 4.965110615567685) root 4.965114427119705\n",
      "iteration 19 (bisection): interval (4.965114427119705, 4.965110615567685) root 4.965112521343695\n",
      "iteration 20 (bisection): interval (4.965114427119705, 4.965112521343695) root 4.9651134742317\n",
      "x = 4.9651134742317\n",
      "lambda =  4.829740941293652e-07 m\n"
     ]
    }
   ],
   "source": [
    "def d_intensity(x):\n",
    "    return 5*np.exp(-x)+x-5\n",
    "\n",
    "k = 1.3806e-23\n",
    "h = 6.626e-34 \n",
    "x1 = h*c/(k*4e-7*6000)\n",
    "x2 = h*c/(k*6e-7*6000)\n",
    "\n",
    "xnew = bisection(d_intensity,(x1,x2),1e-6,verbose=True)\n",
    "print(\"x =\",xnew)\n",
    "lam = 1/(xnew*k*6000/(h*c))\n",
    "print(\"lambda = \",1/(xnew*k*6000/(h*c)),\"m\")"
   ]
  },
  {
   "cell_type": "markdown",
   "metadata": {},
   "source": [
    "## Part c"
   ]
  },
  {
   "cell_type": "code",
   "execution_count": 81,
   "metadata": {},
   "outputs": [
    {
     "name": "stdout",
     "output_type": "stream",
     "text": [
      "Temperature of the sun is: 5772.730666377537 K\n"
     ]
    }
   ],
   "source": [
    "T = h*c/(k*4.965*502e-9)\n",
    "print(\"Temperature of the sun is:\",T,\"K\")"
   ]
  },
  {
   "cell_type": "markdown",
   "metadata": {},
   "source": [
    "## Exercise 6: Newton-Raphson method\n",
    "\n",
    "Now let us go ahead and code a function to implement the Newton-Raphson method.  I have gotten us started by defining the interface:"
   ]
  },
  {
   "cell_type": "code",
   "execution_count": 109,
   "metadata": {
    "collapsed": true
   },
   "outputs": [],
   "source": [
    "def newton(f,fp,x_guess,tolerance,verbose=False,max_iterations=100):\n",
    "    \"\"\" Find root by Newton's method.\n",
    "\n",
    "    The 'approximation' x_i at each iteration is defined by Newton's\n",
    "    method, in terms of the previous approximation x_(i-1).\n",
    "    \n",
    "    The 'error' x_i-x_(i-1) is defined by the difference in successive\n",
    "    approximations.\n",
    "\n",
    "    Returns None if the maximum number of iterations is reached\n",
    "    without satisfying the tolerance.  Also returns None if\n",
    "    rootfinding lands on point where f has zero slope.  Otherwise,\n",
    "    returns final approximation x_i when termination condition is\n",
    "    reached.\n",
    "\n",
    "    f: function for rootfinding\n",
    "    fp: derivative of function for rootfinding (i.e., 'f prime')\n",
    "    x_guess: initial guess point\n",
    "    tolerance: error at which search should terminate\n",
    "    verbose (optional): whether or not to print iteration log\n",
    "    max_iterations (optional): limit on number of iterations\n",
    "    \"\"\"\n",
    "\n",
    "    # set up for first iteration\n",
    "    x = x_guess\n",
    "    error = 2*tolerance  # set error big enough to get past while condition\n",
    "    iteration_count = 0\n",
    "\n",
    "    # TODO\n",
    "    while error>tolerance:\n",
    "        if (iteration_count>=max_iterations):\n",
    "            return None\n",
    "        elif (fp(x)==0):\n",
    "            return None\n",
    "        else:\n",
    "            iteration_count += 1\n",
    "            xnew = x - (f(x)/fp(x))\n",
    "            # Verbose log\n",
    "            if (verbose):\n",
    "                print(\"iteration\", iteration_count, \"(Newton):\",\n",
    "                  \"point\", x, \"root\", xnew)\n",
    "            error = np.abs(xnew-x)\n",
    "            x = xnew\n",
    "            \n",
    "\n",
    "    return x\n"
   ]
  },
  {
   "cell_type": "markdown",
   "metadata": {},
   "source": [
    "Notice that, in case of complete failure, we should put in a maximum number of iterations as a \"safety net\", to avoid an infinite loop.\n",
    "\n",
    "Try your function out on our benchmark function, picking starting points reasonably near the root.  Actually, when it comes time to print out a test case to hand in, please use $x_0=0.5$.\n",
    "\n",
    "Now, we probably thought of bisection as being pretty \"fast\" as a way to get to the root.  After all, we saw in **Exercise 3** the error in the bisection method falls exponentially with the number of iterations\n",
    "$$\n",
    "\\epsilon_i \\propto \\frac{1}{2^i}.\n",
    "$$\n",
    "And \"exponential\" is \"fast\", right?  But from Newman you have seen that we expect the Newton-Raphson method to be even faster, at least, once we have gotten close enough to a root that the function is basically described by the first couple of terms in its Taylor series around that root.\n",
    " \n",
    "So let us actually compare the performance of ```bisect``` and ```newton```.  We have already run the necessary test cases.  For ```bisect```, we started with the initial interval $(0,1)$, and, for ```newton```, \n",
    "we used $x_0=0.5$, which is the midpoint of this interval.  So it seems reasonable to compare these test cases.  Based on your log of iterations (from the verbose output) make a table indicating how many how many digits of\n",
    "the answer $x_i$ are correct, with each method, after each iteration ($i=0$, $1$, $2$, $\\ldots$)."
   ]
  },
  {
   "cell_type": "code",
   "execution_count": 104,
   "metadata": {},
   "outputs": [
    {
     "name": "stdout",
     "output_type": "stream",
     "text": [
      "iteration 1 (Newton): point 0.5 root 0.7552224171056364\n",
      "iteration 2 (Newton): point 0.7552224171056364 root 0.7391416661498792\n",
      "iteration 3 (Newton): point 0.7391416661498792 root 0.7390851339208068\n",
      "iteration 4 (Newton): point 0.7390851339208068 root 0.7390851332151607\n",
      "iteration 5 (Newton): point 0.7390851332151607 root 0.7390851332151607\n",
      "0.7390851332151607\n"
     ]
    }
   ],
   "source": [
    "#your code here\n",
    "def d_bench (x):\n",
    "    return -math.sin(x)-1\n",
    "\n",
    "guess = 0.5\n",
    "tolerance = 1e-10\n",
    "root = newton(f_bench, d_bench, guess, tolerance, verbose = True)\n",
    "print(root)"
   ]
  },
  {
   "cell_type": "markdown",
   "metadata": {},
   "source": [
    "<div class=answer>\n",
    "<div/>\n",
    "Newton's method reaches the target value in significantly less iterations, especially as the tolerance gets smaller. Newton's method reaches its maximum number of iterations around 1e-10, while the Bisection method continues expanding until it hits the system limit of 1e-16. The max number of iterations encountered for Newton was 5, which is notably less than the 52 of Bisection."
   ]
  },
  {
   "cell_type": "markdown",
   "metadata": {},
   "source": [
    "For the *bisection* method, does the growth in the number of correct digits look linear in the number of iterations, or perhaps quadratic, or exponential?  How about for the *Newton-Raphson* method (the trend here may be\n",
    "harder to judge by eye)?  Explain these results in terms of the expected convergence rates (from Newman)."
   ]
  },
  {
   "cell_type": "markdown",
   "metadata": {},
   "source": [
    "<div class=answer>\n",
    "<div/>\n",
    "The growth in the number of correct digits appears quadratic for the Bisection method, while the Newton method appears more exponential. It appears this way because Newton converges at a much higher rate."
   ]
  },
  {
   "cell_type": "markdown",
   "metadata": {},
   "source": [
    "What happens if you start Newton's method instead with the initial guess point $x=5$?  How about $x=10$?  Explain what's going on.  It will help to look back at your plot of this function.  "
   ]
  },
  {
   "cell_type": "code",
   "execution_count": 107,
   "metadata": {},
   "outputs": [
    {
     "name": "stdout",
     "output_type": "stream",
     "text": [
      "iteration 1 (Newton): point 5 root -109.82056070484798\n",
      "iteration 2 (Newton): point -109.82056070484798 root 15.960777561082068\n",
      "iteration 3 (Newton): point 15.960777561082068 root -6.615115461729538\n",
      "iteration 4 (Newton): point -6.615115461729538 root 4.600099704729104\n",
      "iteration 5 (Newton): point 4.600099704729104 root -743.6197251930475\n",
      "iteration 6 (Newton): point -743.6197251930475 root 3090.7583906372142\n",
      "iteration 7 (Newton): point 3090.7583906372142 root -3606.140072709168\n",
      "iteration 8 (Newton): point -3606.140072709168 root -1024.218222635432\n",
      "iteration 9 (Newton): point -1024.218222635432 root 65.25924707762556\n",
      "iteration 10 (Newton): point 65.25924707762556 root 25.37140273241846\n",
      "iteration 11 (Newton): point 25.37140273241846 root 5.63692971597947\n",
      "iteration 12 (Newton): point 5.63692971597947 root -6.52647233436393\n",
      "iteration 13 (Newton): point -6.52647233436393 root 3.3496519726974086\n",
      "iteration 14 (Newton): point 3.3496519726974086 root -2.1051947424657396\n",
      "iteration 15 (Newton): point -2.1051947424657396 root 9.340912110729942\n",
      "iteration 16 (Newton): point 9.340912110729942 root -0.19747756557924134\n",
      "iteration 17 (Newton): point -0.19747756557924134 root 1.2681072760549799\n",
      "iteration 18 (Newton): point 1.2681072760549799 root 0.771816587211259\n",
      "iteration 19 (Newton): point 0.771816587211259 root 0.739313671562077\n",
      "iteration 20 (Newton): point 0.739313671562077 root 0.7390851447450119\n",
      "iteration 21 (Newton): point 0.7390851447450119 root 0.7390851332151607\n",
      "iteration 22 (Newton): point 0.7390851332151607 root 0.7390851332151607\n",
      "0.7390851332151607\n"
     ]
    }
   ],
   "source": [
    "guess = 5\n",
    "root = newton(f_bench, d_bench, guess, tolerance, verbose = True)\n",
    "print(root)"
   ]
  },
  {
   "cell_type": "code",
   "execution_count": 110,
   "metadata": {},
   "outputs": [
    {
     "name": "stdout",
     "output_type": "stream",
     "text": [
      "iteration 1 (Newton): point 10 root -13.770994201546603\n",
      "iteration 2 (Newton): point -13.770994201546603 root 199.35117751530382\n",
      "iteration 3 (Newton): point 199.35117751530382 root -20202.926342870745\n",
      "iteration 4 (Newton): point -20202.926342870745 root 31592.34177166328\n",
      "iteration 5 (Newton): point 31592.34177166328 root 10059.580115835786\n",
      "iteration 6 (Newton): point 10059.580115835786 root 1671.1192026543067\n",
      "iteration 7 (Newton): point 1671.1192026543067 root -433.8983151322527\n",
      "iteration 8 (Newton): point -433.8983151322527 root 236.00274675528692\n",
      "iteration 9 (Newton): point 236.00274675528692 root -142.46844918750787\n",
      "iteration 10 (Newton): point -142.46844918750787 root -67.31957649476091\n",
      "iteration 11 (Newton): point -67.31957649476091 root -33.3442558989409\n",
      "iteration 12 (Newton): point -33.3442558989409 root 488.41204795953547\n",
      "iteration 13 (Newton): point 488.41204795953547 root -87192.766475474\n",
      "iteration 14 (Newton): point -87192.766475474 root 470338.1773171524\n",
      "iteration 15 (Newton): point 470338.1773171524 root -1806200.5661173384\n",
      "iteration 16 (Newton): point -1806200.5661173384 root -903074.919692168\n",
      "iteration 17 (Newton): point -903074.919692168 root -415663.71518534905\n",
      "iteration 18 (Newton): point -415663.71518534905 root -118233.25235400954\n",
      "iteration 19 (Newton): point -118233.25235400954 root 146863.11334795697\n",
      "iteration 20 (Newton): point 146863.11334795697 root -9370.856705585727\n",
      "iteration 21 (Newton): point -9370.856705585727 root 9067.504535656466\n",
      "iteration 22 (Newton): point 9067.504535656466 root 3925.0158936009684\n",
      "iteration 23 (Newton): point 3925.0158936009684 root -44805.14277324305\n",
      "iteration 24 (Newton): point -44805.14277324305 root -8931.684440842328\n",
      "iteration 25 (Newton): point -8931.684440842328 root -1070.8706372661863\n",
      "iteration 26 (Newton): point -1070.8706372661863 root 714.9526285580296\n",
      "iteration 27 (Newton): point 714.9526285580296 root -24159.094026639432\n",
      "iteration 28 (Newton): point -24159.094026639432 root 7799.980014924829\n",
      "iteration 29 (Newton): point 7799.980014924829 root 2799.8817087162097\n",
      "iteration 30 (Newton): point 2799.8817087162097 root -5470.789019377118\n",
      "iteration 31 (Newton): point -5470.789019377118 root -2675.328509578843\n",
      "iteration 32 (Newton): point -2675.328509578843 root -1314.2459516130984\n",
      "iteration 33 (Newton): point -1314.2459516130984 root 8994.503025697262\n",
      "iteration 34 (Newton): point 8994.503025697262 root -1261.9938631984369\n",
      "iteration 35 (Newton): point -1261.9938631984369 root -560.3390668151701\n",
      "iteration 36 (Newton): point -560.3390668151701 root 5454.891618860409\n",
      "iteration 37 (Newton): point 5454.891618860409 root 2561.495557583518\n",
      "iteration 38 (Newton): point 2561.495557583518 root -20748.26636472557\n",
      "iteration 39 (Newton): point -20748.26636472557 root 266641.46269220265\n",
      "iteration 40 (Newton): point 266641.46269220265 root 128980.38913535711\n",
      "iteration 41 (Newton): point 128980.38913535711 root -374601.40456448874\n",
      "iteration 42 (Newton): point -374601.40456448874 root -173361.3318778897\n",
      "iteration 43 (Newton): point -173361.3318778897 root 2074931.389862353\n",
      "iteration 44 (Newton): point 2074931.389862353 root -2259426.106629567\n",
      "iteration 45 (Newton): point -2259426.106629567 root -1048424.2744233722\n",
      "iteration 46 (Newton): point -1048424.2744233722 root -375612.23133710166\n",
      "iteration 47 (Newton): point -375612.23133710166 root -79560.83963105257\n",
      "iteration 48 (Newton): point -79560.83963105257 root -450.25794402201427\n",
      "iteration 49 (Newton): point -450.25794402201427 root -206.75929713590494\n",
      "iteration 50 (Newton): point -206.75929713590494 root -73.07710650482838\n",
      "iteration 51 (Newton): point -73.07710650482838 root -31.265681637051635\n",
      "iteration 52 (Newton): point -31.265681637051635 root -3.2105634128167893\n",
      "iteration 53 (Newton): point -3.2105634128167893 root -1.1402971187843933\n",
      "iteration 54 (Newton): point -1.1402971187843933 root 15.93093793605096\n",
      "iteration 55 (Newton): point 15.93093793605096 root -5.775145447615056\n",
      "iteration 56 (Newton): point -5.775145447615056 root -1.302223143436299\n",
      "iteration 57 (Newton): point -1.302223143436299 root 42.424435184724665\n",
      "iteration 58 (Newton): point 42.424435184724665 root -506982.9817305641\n",
      "iteration 59 (Newton): point -506982.9817305641 root -228078.39003963931\n",
      "iteration 60 (Newton): point -228078.39003963931 root -110794.84073314031\n",
      "iteration 61 (Newton): point -110794.84073314031 root -24805.513725102865\n",
      "iteration 62 (Newton): point -24805.513725102865 root -8056.477059792684\n",
      "iteration 63 (Newton): point -8056.477059792684 root 848037.999725729\n",
      "iteration 64 (Newton): point 848037.999725729 root 229275.92281453032\n",
      "iteration 65 (Newton): point 229275.92281453032 root 86486.0800607203\n",
      "iteration 66 (Newton): point 86486.0800607203 root -1037247.0273538231\n",
      "iteration 67 (Newton): point -1037247.0273538231 root -51913.18543889758\n",
      "iteration 68 (Newton): point -51913.18543889758 root 26651223.4370163\n",
      "iteration 69 (Newton): point 26651223.4370163 root -12103784.316555217\n",
      "iteration 70 (Newton): point -12103784.316555217 root 18806233.0104869\n",
      "iteration 71 (Newton): point 18806233.0104869 root -9746708.338285565\n",
      "iteration 72 (Newton): point -9746708.338285565 root -4690441.255750039\n",
      "iteration 73 (Newton): point -4690441.255750039 root -1624378.3302624696\n",
      "iteration 74 (Newton): point -1624378.3302624696 root -742484.0865076375\n",
      "iteration 75 (Newton): point -742484.0865076375 root 63405.86351012578\n",
      "iteration 76 (Newton): point 63405.86351012578 root 27863.292452458838\n",
      "iteration 77 (Newton): point 27863.292452458838 root -26319.576664888024\n",
      "iteration 78 (Newton): point -26319.576664888024 root -10210.676564537449\n",
      "iteration 79 (Newton): point -10210.676564537449 root 9419.828227305336\n",
      "iteration 80 (Newton): point 9419.828227305336 root 4643.0753869181635\n",
      "iteration 81 (Newton): point 4643.0753869181635 root -1139.6869433969377\n",
      "iteration 82 (Newton): point -1139.6869433969377 root 2140.0316937701023\n",
      "iteration 83 (Newton): point 2140.0316937701023 root -2844.322101006003\n",
      "iteration 84 (Newton): point -2844.322101006003 root -1366.8662413077811\n",
      "iteration 85 (Newton): point -1366.8662413077811 root -291.3876066104781\n",
      "iteration 86 (Newton): point -291.3876066104781 root 689.4432414023199\n",
      "iteration 87 (Newton): point 689.4432414023199 root -73612.78630236792\n",
      "iteration 88 (Newton): point -73612.78630236792 root -33785.092792315285\n",
      "iteration 89 (Newton): point -33785.092792315285 root 22002.599277393427\n",
      "iteration 90 (Newton): point 22002.599277393427 root -194138.78356533227\n",
      "iteration 91 (Newton): point -194138.78356533227 root 766875.1604995576\n",
      "iteration 92 (Newton): point 766875.1604995576 root -159029.01731516898\n",
      "iteration 93 (Newton): point -159029.01731516898 root 456421001.0995867\n",
      "iteration 94 (Newton): point 456421001.0995867 root 97951835.5095734\n",
      "iteration 95 (Newton): point 97951835.5095734 root -1485533970.9949284\n",
      "iteration 96 (Newton): point -1485533970.9949284 root -590769456.3346814\n",
      "iteration 97 (Newton): point -590769456.3346814 root 13276161028.092415\n",
      "iteration 98 (Newton): point 13276161028.092415 root -17081192263.640766\n",
      "iteration 99 (Newton): point -17081192263.640766 root -7844308733.150286\n",
      "iteration 100 (Newton): point -7844308733.150286 root 1110711643.7534924\n",
      "None\n"
     ]
    }
   ],
   "source": [
    "guess = 10\n",
    "root = newton(f_bench, d_bench, guess, tolerance, verbose = True)\n",
    "print(root)"
   ]
  },
  {
   "cell_type": "markdown",
   "metadata": {},
   "source": [
    "<div class=answer>\n",
    "<div/>\n",
    "In the case of 5, you still get the right answer, but it takes longer due to being further from the root. In the second one, it is so far from the root that it is unable to get there, and instead goes wildly out of control, cycling with sine based slopes."
   ]
  },
  {
   "cell_type": "markdown",
   "metadata": {},
   "source": [
    "## Exercise 7: More on Newton's method\n",
    "\n",
    "Here's one more illustration with Newton's method.  Let's try it out on the function\n",
    "\n",
    "$$\n",
    "\\begin{equation}\n",
    "f(x)=x^2+1.\n",
    "\\end{equation}\n",
    "$$\n",
    "\n",
    "What happens if you pick $x=0$ as the starting point?  How about\n",
    "$x=0.5$?"
   ]
  },
  {
   "cell_type": "code",
   "execution_count": 112,
   "metadata": {},
   "outputs": [
    {
     "name": "stdout",
     "output_type": "stream",
     "text": [
      "None\n",
      "iteration 1 (Newton): point 0.5 root -0.75\n",
      "iteration 2 (Newton): point -0.75 root 0.29166666666666674\n",
      "iteration 3 (Newton): point 0.29166666666666674 root -1.5684523809523803\n",
      "iteration 4 (Newton): point -1.5684523809523803 root -0.4654406117285619\n",
      "iteration 5 (Newton): point -0.4654406117285619 root 0.841530602630985\n",
      "iteration 6 (Newton): point 0.841530602630985 root -0.1733901559391644\n",
      "iteration 7 (Newton): point -0.1733901559391644 root 2.7969749740686076\n",
      "iteration 8 (Newton): point 2.7969749740686076 root 1.2197229272382335\n",
      "iteration 9 (Newton): point 1.2197229272382335 root 0.1999322995161441\n",
      "iteration 10 (Newton): point 0.1999322995161441 root -2.4008803928468465\n",
      "iteration 11 (Newton): point -2.4008803928468465 root -0.992183258056275\n",
      "iteration 12 (Newton): point -0.992183258056275 root 0.007847533359584213\n",
      "iteration 13 (Newton): point 0.007847533359584213 root -63.71036416168544\n",
      "iteration 14 (Newton): point -63.71036416168544 root -31.847334064172603\n",
      "iteration 15 (Newton): point -31.847334064172603 root -15.907967130832636\n",
      "iteration 16 (Newton): point -15.907967130832636 root -7.922552773795502\n",
      "iteration 17 (Newton): point -7.922552773795502 root -3.898165415689861\n",
      "iteration 18 (Newton): point -3.898165415689861 root -1.8208172427655032\n",
      "iteration 19 (Newton): point -1.8208172427655032 root -0.6358066524116166\n",
      "iteration 20 (Newton): point -0.6358066524116166 root 0.46849926663196473\n",
      "iteration 21 (Newton): point 0.46849926663196473 root -0.8329878964127055\n",
      "iteration 22 (Newton): point -0.8329878964127055 root 0.1837548695174933\n",
      "iteration 23 (Newton): point 0.1837548695174933 root -2.629138891572678\n",
      "iteration 24 (Newton): point -2.629138891572678 root -1.124393110255844\n",
      "iteration 25 (Newton): point -1.124393110255844 root -0.11751222236264014\n",
      "iteration 26 (Newton): point -0.11751222236264014 root 4.196120445037751\n",
      "iteration 27 (Newton): point 4.196120445037751 root 1.9789025370927362\n",
      "iteration 28 (Newton): point 1.9789025370927362 root 0.736785970166103\n",
      "iteration 29 (Newton): point 0.736785970166103 root -0.31023014326897\n",
      "iteration 30 (Newton): point -0.31023014326897 root 1.4565916269196242\n",
      "iteration 31 (Newton): point 1.4565916269196242 root 0.3850287022397705\n",
      "iteration 32 (Newton): point 0.3850287022397705 root -1.1060901349649808\n",
      "iteration 33 (Newton): point -1.1060901349649808 root -0.10100234131186947\n",
      "iteration 34 (Newton): point -0.10100234131186947 root 4.899879122570412\n",
      "iteration 35 (Newton): point 4.899879122570412 root 2.3478962276656397\n",
      "iteration 36 (Newton): point 2.3478962276656397 root 0.9609915128943205\n",
      "iteration 37 (Newton): point 0.9609915128943205 root -0.039800201728471096\n",
      "iteration 38 (Newton): point -0.039800201728471096 root 12.542850294501845\n",
      "iteration 39 (Newton): point 12.542850294501845 root 6.231561799745357\n",
      "iteration 40 (Newton): point 6.231561799745357 root 3.0355441925964333\n",
      "iteration 41 (Newton): point 3.0355441925964333 root 1.3530569848465437\n",
      "iteration 42 (Newton): point 1.3530569848465437 root 0.3069949061813686\n",
      "iteration 43 (Newton): point 0.3069949061813686 root -1.4751940656689349\n",
      "iteration 44 (Newton): point -1.4751940656689349 root -0.3986585761011343\n",
      "iteration 45 (Newton): point -0.3986585761011343 root 1.054876766889931\n",
      "iteration 46 (Newton): point 1.054876766889931 root 0.05344936814591916\n",
      "iteration 47 (Newton): point 0.05344936814591916 root -9.327922851422272\n",
      "iteration 48 (Newton): point -9.327922851422272 root -4.610358924064828\n",
      "iteration 49 (Newton): point -4.610358924064828 root -2.1967280359644485\n",
      "iteration 50 (Newton): point -2.1967280359644485 root -0.8707527744354187\n",
      "iteration 51 (Newton): point -0.8707527744354187 root 0.13883941166296787\n",
      "iteration 52 (Newton): point 0.13883941166296787 root -3.531863200881979\n",
      "iteration 53 (Newton): point -3.531863200881979 root -1.6243632634014518\n",
      "iteration 54 (Newton): point -1.6243632634014518 root -0.5043687112379784\n",
      "iteration 55 (Newton): point -0.5043687112379784 root 0.7391539031971546\n",
      "iteration 56 (Newton): point 0.7391539031971546 root -0.30687215844100657\n",
      "iteration 57 (Newton): point -0.30687215844100657 root 1.4759069101863398\n",
      "iteration 58 (Newton): point 1.4759069101863398 root 0.3991787013813164\n",
      "iteration 59 (Newton): point 0.3991787013813164 root -1.0529824881118681\n",
      "iteration 60 (Newton): point -1.0529824881118681 root -0.05164953904660985\n",
      "iteration 61 (Newton): point -0.05164953904660985 root 9.654803736159726\n",
      "iteration 62 (Newton): point 9.654803736159726 root 4.775614176308629\n",
      "iteration 63 (Newton): point 4.775614176308629 root 2.283108512946867\n",
      "iteration 64 (Newton): point 2.283108512946867 root 0.9225545912518112\n",
      "iteration 65 (Newton): point 0.9225545912518112 root -0.08069605179579198\n",
      "iteration 66 (Newton): point -0.08069605179579198 root 6.1557419794135315\n",
      "iteration 67 (Newton): point 6.1557419794135315 root 2.996646012819798\n",
      "iteration 68 (Newton): point 2.996646012819798 root 1.3314697985698754\n",
      "iteration 69 (Newton): point 1.3314697985698754 root 0.29021004657175764\n",
      "iteration 70 (Newton): point 0.29021004657175764 root -1.5777850210336912\n",
      "iteration 71 (Newton): point -1.5777850210336912 root -0.4719925568891814\n",
      "iteration 72 (Newton): point -0.4719925568891814 root 0.8233424604868251\n",
      "iteration 73 (Newton): point 0.8233424604868251 root -0.1956094870711791\n",
      "iteration 74 (Newton): point -0.1956094870711791 root 2.458308497628722\n",
      "iteration 75 (Newton): point 2.458308497628722 root 1.0257623635069235\n",
      "iteration 76 (Newton): point 1.0257623635069235 root 0.025438848335634923\n",
      "iteration 77 (Newton): point 0.025438848335634923 root -19.642258403566483\n",
      "iteration 78 (Newton): point -19.642258403566483 root -9.795673880418098\n",
      "iteration 79 (Newton): point -9.795673880418098 root -4.846793999610596\n",
      "iteration 80 (Newton): point -4.846793999610596 root -2.320236023696107\n",
      "iteration 81 (Newton): point -2.320236023696107 root -0.9446226937452398\n",
      "iteration 82 (Newton): point -0.9446226937452398 root 0.057000518394559\n",
      "iteration 83 (Newton): point 0.057000518394559 root -8.74334978853365\n",
      "iteration 84 (Newton): point -8.74334978853365 root -4.314488574138615\n",
      "iteration 85 (Newton): point -4.314488574138615 root -2.0413556964731847\n",
      "iteration 86 (Newton): point -2.0413556964731847 root -0.7757425824895001\n",
      "iteration 87 (Newton): point -0.7757425824895001 root 0.2566724160188223\n",
      "iteration 88 (Newton): point 0.2566724160188223 root -1.8196721045134823\n",
      "iteration 89 (Newton): point -1.8196721045134823 root -0.6350612734601608\n",
      "iteration 90 (Newton): point -0.6350612734601608 root 0.46979496616131744\n",
      "iteration 91 (Newton): point 0.46979496616131744 root -0.8293965941536872\n",
      "iteration 92 (Newton): point -0.8293965941536872 root 0.18814960888809207\n",
      "iteration 93 (Newton): point 0.18814960888809207 root -2.563384878596756\n",
      "iteration 94 (Newton): point -2.563384878596756 root -1.0866378440345916\n",
      "iteration 95 (Newton): point -1.0866378440345916 root -0.08318401806112252\n",
      "iteration 96 (Newton): point -0.08318401806112252 root 5.969177988069201\n",
      "iteration 97 (Newton): point 5.969177988069201 root 2.9008253667815067\n",
      "iteration 98 (Newton): point 2.9008253667815067 root 1.278047946883104\n",
      "iteration 99 (Newton): point 1.278047946883104 root 0.24780234422224368\n",
      "iteration 100 (Newton): point 0.24780234422224368 root -1.8938359948608365\n",
      "None\n"
     ]
    }
   ],
   "source": [
    "#your code here\n",
    "def f2(x):\n",
    "    return x**2 + 1\n",
    "\n",
    "def d_f2(x):\n",
    "    return 2*x\n",
    "\n",
    "guess = 0\n",
    "print(newton(f2, d_f2, guess, tolerance, verbose = True))\n",
    "guess = 0.5\n",
    "print(newton(f2, d_f2, guess, tolerance, verbose = True))"
   ]
  },
  {
   "cell_type": "markdown",
   "metadata": {},
   "source": [
    "<div class=answer>\n",
    "<div/>\n",
    "If you pick x=0, the slope at that point is 0, which breaks the function right off the bat. In the case of x=0.5, the new x-values flip across the y-axis repeatedly, as the function has no actual root, as it never crosses the x-axis."
   ]
  },
  {
   "cell_type": "markdown",
   "metadata": {},
   "source": [
    "*Comment:* Notice that we were applying a rootfinding method, to a function which\n",
    "had no root. A physics professor of mine promulgated this bit of wisdom:\n",
    "\n",
    "    **First rule: Think before you try cranking away!**\n",
    "\n",
    "But, even if we were immune to being so silly as to ever attempt this, there is\n",
    "a lesson to be learned.  What if our function *had* a root, off somewhere far away from the initial guess point, but the guess point landed us near a local minimum in the function?  Our function would locally look just like this parabola, and the Newton-Raphson method could become trapped oscillating around the minimum, in just this fashion.\n",
    "\n",
    "**Summary:** Here is an attempt at summarizing the lessons we have learned.  When it works, Newton-Raphson converges much more rapidly than bisection.  However, sometimes it jumps around before converging.  Sometimes it just oscillates, without converging.  Or, if the starting point is not close enough to a root, the method may go\n",
    "completely astray.\n",
    "\n",
    "**When it's good, it's very, very good.  When it's bad, it's horrid.**"
   ]
  },
  {
   "cell_type": "markdown",
   "metadata": {},
   "source": [
    "## Exericise 8 - The Lagrange Point.  \n",
    "Work out Newman's Exercise 6.16 below **in a lab format**.  As in the percolation problem, \n",
    "* plot and label the numerical function you are trying to solve before \"cranking away.\"  \n",
    "* write a thoughtful description about each plot\n",
    "* take note of the tolerance you choose and the number of steps required to solve.\n",
    "\n",
    "You can use the astropy version of the constants library, you may have to install astropy to use them, but I did not\n",
    "http://docs.astropy.org/en/stable/constants/"
   ]
  },
  {
   "cell_type": "code",
   "execution_count": 120,
   "metadata": {},
   "outputs": [
    {
     "data": {
      "text/plain": [
       "[<matplotlib.lines.Line2D at 0xa822ac8>]"
      ]
     },
     "execution_count": 120,
     "metadata": {},
     "output_type": "execute_result"
    },
    {
     "data": {
      "image/png": "[encoded data removed]",
      "text/plain": [
       "<matplotlib.figure.Figure at 0xa46e588>"
      ]
     },
     "metadata": {},
     "output_type": "display_data"
    }
   ],
   "source": [
    "from astropy import constants as a_const\n",
    "\n",
    "def Lagrange_r (r):\n",
    "    M = 5.974e24\n",
    "    m = 7.348e22\n",
    "    R = 3.844e8\n",
    "    omega = 2.662e-6\n",
    "    return (const.G*M/(r**2))-(const.G*m/((R-r)**2))-(omega**2)*r\n",
    "\n",
    "# Constant Block\n",
    "r_start = 6.38e6\n",
    "Moon_distance = 3.8e8\n",
    "r = np.linspace(r_start,Moon_distance,1000)\n",
    "y=[]\n",
    "\n",
    "for i in r:\n",
    "    y.append(Lagrange_r(i))\n",
    "    \n",
    "plt.plot(r,y)"
   ]
  },
  {
   "cell_type": "code",
   "execution_count": 121,
   "metadata": {},
   "outputs": [
    {
     "data": {
      "text/plain": [
       "[<matplotlib.lines.Line2D at 0xa85e550>]"
      ]
     },
     "execution_count": 121,
     "metadata": {},
     "output_type": "execute_result"
    },
    {
     "data": {
      "image/png": "[encoded data removed]",
      "text/plain": [
       "<matplotlib.figure.Figure at 0xa82b0b8>"
      ]
     },
     "metadata": {},
     "output_type": "display_data"
    }
   ],
   "source": [
    "def d_Lagrange (r):\n",
    "    M = 5.974e24\n",
    "    m = 7.348e22\n",
    "    R = 3.844e8\n",
    "    omega = 2.662e-6\n",
    "    return (-2*const.G*M/(r**3))-(2*const.G*m/((R-r)**3))-omega**2\n",
    "\n",
    "# Constant Block\n",
    "r_start = 6.38e6\n",
    "Moon_distance = 3.8e8\n",
    "r = np.linspace(r_start,Moon_distance,1000)\n",
    "y=[]\n",
    "\n",
    "for i in r:\n",
    "    y.append(d_Lagrange(i))\n",
    "    \n",
    "plt.plot(r,y)"
   ]
  },
  {
   "cell_type": "code",
   "execution_count": 122,
   "metadata": {},
   "outputs": [
    {
     "name": "stdout",
     "output_type": "stream",
     "text": [
      "iteration 1 (Newton): point 300000000.0 root 330522567.2565018\n",
      "iteration 2 (Newton): point 330522567.2565018 root 326364931.6119637\n",
      "iteration 3 (Newton): point 326364931.6119637 root 326045888.7018119\n",
      "iteration 4 (Newton): point 326045888.7018119 root 326044374.51547277\n",
      "iteration 5 (Newton): point 326044374.51547277 root 326044374.48191315\n",
      "iteration 6 (Newton): point 326044374.48191315 root 326044374.4819132\n",
      "iteration 7 (Newton): point 326044374.4819132 root 326044374.4819132\n",
      "326044374.4819132\n"
     ]
    }
   ],
   "source": [
    "guess = 3e8\n",
    "print(newton(Lagrange_r, d_Lagrange, guess, tolerance, verbose = True))"
   ]
  },
  {
   "cell_type": "code",
   "execution_count": null,
   "metadata": {
    "collapsed": true
   },
   "outputs": [],
   "source": []
  }
 ],
 "metadata": {
  "kernelspec": {
   "display_name": "Python 3",
   "language": "python",
   "name": "python3"
  },
  "language_info": {
   "codemirror_mode": {
    "name": "ipython",
    "version": 3
   },
   "file_extension": ".py",
   "mimetype": "text/x-python",
   "name": "python",
   "nbconvert_exporter": "python",
   "pygments_lexer": "ipython3",
   "version": "3.4.5"
  }
 },
 "nbformat": 4,
 "nbformat_minor": 2
}
